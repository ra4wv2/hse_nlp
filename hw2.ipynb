{
  "nbformat": 4,
  "nbformat_minor": 0,
  "metadata": {
    "colab": {
      "provenance": []
    },
    "kernelspec": {
      "name": "python3",
      "display_name": "Python 3"
    },
    "language_info": {
      "name": "python"
    },
    "widgets": {
      "application/vnd.jupyter.widget-state+json": {
        "56b8f7ebb97446369430127ffb04ed04": {
          "model_module": "@jupyter-widgets/controls",
          "model_name": "HBoxModel",
          "model_module_version": "1.5.0",
          "state": {
            "_dom_classes": [],
            "_model_module": "@jupyter-widgets/controls",
            "_model_module_version": "1.5.0",
            "_model_name": "HBoxModel",
            "_view_count": null,
            "_view_module": "@jupyter-widgets/controls",
            "_view_module_version": "1.5.0",
            "_view_name": "HBoxView",
            "box_style": "",
            "children": [
              "IPY_MODEL_f45fa127c7184864b0011b92419fc24c",
              "IPY_MODEL_2c7da11b62e44431b2c78de412880218",
              "IPY_MODEL_f61fba9ccf2e4345a0337a02aff0c1eb"
            ],
            "layout": "IPY_MODEL_d2fcfc5a854248eba7c97a94c7e3bf2a"
          }
        },
        "f45fa127c7184864b0011b92419fc24c": {
          "model_module": "@jupyter-widgets/controls",
          "model_name": "HTMLModel",
          "model_module_version": "1.5.0",
          "state": {
            "_dom_classes": [],
            "_model_module": "@jupyter-widgets/controls",
            "_model_module_version": "1.5.0",
            "_model_name": "HTMLModel",
            "_view_count": null,
            "_view_module": "@jupyter-widgets/controls",
            "_view_module_version": "1.5.0",
            "_view_name": "HTMLView",
            "description": "",
            "description_tooltip": null,
            "layout": "IPY_MODEL_890cf06487434bb08c36c68c62d15a38",
            "placeholder": "​",
            "style": "IPY_MODEL_3a7198b75df944db9520d86785d07b60",
            "value": "100%"
          }
        },
        "2c7da11b62e44431b2c78de412880218": {
          "model_module": "@jupyter-widgets/controls",
          "model_name": "FloatProgressModel",
          "model_module_version": "1.5.0",
          "state": {
            "_dom_classes": [],
            "_model_module": "@jupyter-widgets/controls",
            "_model_module_version": "1.5.0",
            "_model_name": "FloatProgressModel",
            "_view_count": null,
            "_view_module": "@jupyter-widgets/controls",
            "_view_module_version": "1.5.0",
            "_view_name": "ProgressView",
            "bar_style": "success",
            "description": "",
            "description_tooltip": null,
            "layout": "IPY_MODEL_7200c6a638574fdd9afd79506c65237a",
            "max": 26787,
            "min": 0,
            "orientation": "horizontal",
            "style": "IPY_MODEL_9790b92f433849b18ab095be27dda547",
            "value": 26787
          }
        },
        "f61fba9ccf2e4345a0337a02aff0c1eb": {
          "model_module": "@jupyter-widgets/controls",
          "model_name": "HTMLModel",
          "model_module_version": "1.5.0",
          "state": {
            "_dom_classes": [],
            "_model_module": "@jupyter-widgets/controls",
            "_model_module_version": "1.5.0",
            "_model_name": "HTMLModel",
            "_view_count": null,
            "_view_module": "@jupyter-widgets/controls",
            "_view_module_version": "1.5.0",
            "_view_name": "HTMLView",
            "description": "",
            "description_tooltip": null,
            "layout": "IPY_MODEL_53ae65f8e21a4f81a98e0c0ab87f6310",
            "placeholder": "​",
            "style": "IPY_MODEL_eef46c90120b4d44b41db692d46b4954",
            "value": " 26787/26787 [19:34&lt;00:00, 30.83it/s]"
          }
        },
        "d2fcfc5a854248eba7c97a94c7e3bf2a": {
          "model_module": "@jupyter-widgets/base",
          "model_name": "LayoutModel",
          "model_module_version": "1.2.0",
          "state": {
            "_model_module": "@jupyter-widgets/base",
            "_model_module_version": "1.2.0",
            "_model_name": "LayoutModel",
            "_view_count": null,
            "_view_module": "@jupyter-widgets/base",
            "_view_module_version": "1.2.0",
            "_view_name": "LayoutView",
            "align_content": null,
            "align_items": null,
            "align_self": null,
            "border": null,
            "bottom": null,
            "display": null,
            "flex": null,
            "flex_flow": null,
            "grid_area": null,
            "grid_auto_columns": null,
            "grid_auto_flow": null,
            "grid_auto_rows": null,
            "grid_column": null,
            "grid_gap": null,
            "grid_row": null,
            "grid_template_areas": null,
            "grid_template_columns": null,
            "grid_template_rows": null,
            "height": null,
            "justify_content": null,
            "justify_items": null,
            "left": null,
            "margin": null,
            "max_height": null,
            "max_width": null,
            "min_height": null,
            "min_width": null,
            "object_fit": null,
            "object_position": null,
            "order": null,
            "overflow": null,
            "overflow_x": null,
            "overflow_y": null,
            "padding": null,
            "right": null,
            "top": null,
            "visibility": null,
            "width": null
          }
        },
        "890cf06487434bb08c36c68c62d15a38": {
          "model_module": "@jupyter-widgets/base",
          "model_name": "LayoutModel",
          "model_module_version": "1.2.0",
          "state": {
            "_model_module": "@jupyter-widgets/base",
            "_model_module_version": "1.2.0",
            "_model_name": "LayoutModel",
            "_view_count": null,
            "_view_module": "@jupyter-widgets/base",
            "_view_module_version": "1.2.0",
            "_view_name": "LayoutView",
            "align_content": null,
            "align_items": null,
            "align_self": null,
            "border": null,
            "bottom": null,
            "display": null,
            "flex": null,
            "flex_flow": null,
            "grid_area": null,
            "grid_auto_columns": null,
            "grid_auto_flow": null,
            "grid_auto_rows": null,
            "grid_column": null,
            "grid_gap": null,
            "grid_row": null,
            "grid_template_areas": null,
            "grid_template_columns": null,
            "grid_template_rows": null,
            "height": null,
            "justify_content": null,
            "justify_items": null,
            "left": null,
            "margin": null,
            "max_height": null,
            "max_width": null,
            "min_height": null,
            "min_width": null,
            "object_fit": null,
            "object_position": null,
            "order": null,
            "overflow": null,
            "overflow_x": null,
            "overflow_y": null,
            "padding": null,
            "right": null,
            "top": null,
            "visibility": null,
            "width": null
          }
        },
        "3a7198b75df944db9520d86785d07b60": {
          "model_module": "@jupyter-widgets/controls",
          "model_name": "DescriptionStyleModel",
          "model_module_version": "1.5.0",
          "state": {
            "_model_module": "@jupyter-widgets/controls",
            "_model_module_version": "1.5.0",
            "_model_name": "DescriptionStyleModel",
            "_view_count": null,
            "_view_module": "@jupyter-widgets/base",
            "_view_module_version": "1.2.0",
            "_view_name": "StyleView",
            "description_width": ""
          }
        },
        "7200c6a638574fdd9afd79506c65237a": {
          "model_module": "@jupyter-widgets/base",
          "model_name": "LayoutModel",
          "model_module_version": "1.2.0",
          "state": {
            "_model_module": "@jupyter-widgets/base",
            "_model_module_version": "1.2.0",
            "_model_name": "LayoutModel",
            "_view_count": null,
            "_view_module": "@jupyter-widgets/base",
            "_view_module_version": "1.2.0",
            "_view_name": "LayoutView",
            "align_content": null,
            "align_items": null,
            "align_self": null,
            "border": null,
            "bottom": null,
            "display": null,
            "flex": null,
            "flex_flow": null,
            "grid_area": null,
            "grid_auto_columns": null,
            "grid_auto_flow": null,
            "grid_auto_rows": null,
            "grid_column": null,
            "grid_gap": null,
            "grid_row": null,
            "grid_template_areas": null,
            "grid_template_columns": null,
            "grid_template_rows": null,
            "height": null,
            "justify_content": null,
            "justify_items": null,
            "left": null,
            "margin": null,
            "max_height": null,
            "max_width": null,
            "min_height": null,
            "min_width": null,
            "object_fit": null,
            "object_position": null,
            "order": null,
            "overflow": null,
            "overflow_x": null,
            "overflow_y": null,
            "padding": null,
            "right": null,
            "top": null,
            "visibility": null,
            "width": null
          }
        },
        "9790b92f433849b18ab095be27dda547": {
          "model_module": "@jupyter-widgets/controls",
          "model_name": "ProgressStyleModel",
          "model_module_version": "1.5.0",
          "state": {
            "_model_module": "@jupyter-widgets/controls",
            "_model_module_version": "1.5.0",
            "_model_name": "ProgressStyleModel",
            "_view_count": null,
            "_view_module": "@jupyter-widgets/base",
            "_view_module_version": "1.2.0",
            "_view_name": "StyleView",
            "bar_color": null,
            "description_width": ""
          }
        },
        "53ae65f8e21a4f81a98e0c0ab87f6310": {
          "model_module": "@jupyter-widgets/base",
          "model_name": "LayoutModel",
          "model_module_version": "1.2.0",
          "state": {
            "_model_module": "@jupyter-widgets/base",
            "_model_module_version": "1.2.0",
            "_model_name": "LayoutModel",
            "_view_count": null,
            "_view_module": "@jupyter-widgets/base",
            "_view_module_version": "1.2.0",
            "_view_name": "LayoutView",
            "align_content": null,
            "align_items": null,
            "align_self": null,
            "border": null,
            "bottom": null,
            "display": null,
            "flex": null,
            "flex_flow": null,
            "grid_area": null,
            "grid_auto_columns": null,
            "grid_auto_flow": null,
            "grid_auto_rows": null,
            "grid_column": null,
            "grid_gap": null,
            "grid_row": null,
            "grid_template_areas": null,
            "grid_template_columns": null,
            "grid_template_rows": null,
            "height": null,
            "justify_content": null,
            "justify_items": null,
            "left": null,
            "margin": null,
            "max_height": null,
            "max_width": null,
            "min_height": null,
            "min_width": null,
            "object_fit": null,
            "object_position": null,
            "order": null,
            "overflow": null,
            "overflow_x": null,
            "overflow_y": null,
            "padding": null,
            "right": null,
            "top": null,
            "visibility": null,
            "width": null
          }
        },
        "eef46c90120b4d44b41db692d46b4954": {
          "model_module": "@jupyter-widgets/controls",
          "model_name": "DescriptionStyleModel",
          "model_module_version": "1.5.0",
          "state": {
            "_model_module": "@jupyter-widgets/controls",
            "_model_module_version": "1.5.0",
            "_model_name": "DescriptionStyleModel",
            "_view_count": null,
            "_view_module": "@jupyter-widgets/base",
            "_view_module_version": "1.2.0",
            "_view_name": "StyleView",
            "description_width": ""
          }
        },
        "b5b6e250f0224f258f5b3f201c2a32a0": {
          "model_module": "@jupyter-widgets/controls",
          "model_name": "HBoxModel",
          "model_module_version": "1.5.0",
          "state": {
            "_dom_classes": [],
            "_model_module": "@jupyter-widgets/controls",
            "_model_module_version": "1.5.0",
            "_model_name": "HBoxModel",
            "_view_count": null,
            "_view_module": "@jupyter-widgets/controls",
            "_view_module_version": "1.5.0",
            "_view_name": "HBoxView",
            "box_style": "",
            "children": [
              "IPY_MODEL_5e47c721b3984cb7ae59d64343c69744",
              "IPY_MODEL_460d077305f54747b7864af29e8f9b4b",
              "IPY_MODEL_40ba38de0f2d41d795d748417830b5f3"
            ],
            "layout": "IPY_MODEL_6a3646dc24a947c1a4468629e0d13107"
          }
        },
        "5e47c721b3984cb7ae59d64343c69744": {
          "model_module": "@jupyter-widgets/controls",
          "model_name": "HTMLModel",
          "model_module_version": "1.5.0",
          "state": {
            "_dom_classes": [],
            "_model_module": "@jupyter-widgets/controls",
            "_model_module_version": "1.5.0",
            "_model_name": "HTMLModel",
            "_view_count": null,
            "_view_module": "@jupyter-widgets/controls",
            "_view_module_version": "1.5.0",
            "_view_name": "HTMLView",
            "description": "",
            "description_tooltip": null,
            "layout": "IPY_MODEL_71deb1c8b6b9487bae9fc2d90927439f",
            "placeholder": "​",
            "style": "IPY_MODEL_db71882563e749b6ab340770d07d6bc0",
            "value": "100%"
          }
        },
        "460d077305f54747b7864af29e8f9b4b": {
          "model_module": "@jupyter-widgets/controls",
          "model_name": "FloatProgressModel",
          "model_module_version": "1.5.0",
          "state": {
            "_dom_classes": [],
            "_model_module": "@jupyter-widgets/controls",
            "_model_module_version": "1.5.0",
            "_model_name": "FloatProgressModel",
            "_view_count": null,
            "_view_module": "@jupyter-widgets/controls",
            "_view_module_version": "1.5.0",
            "_view_name": "ProgressView",
            "bar_style": "success",
            "description": "",
            "description_tooltip": null,
            "layout": "IPY_MODEL_390fb7eff0a64e95b27bc980e9b8894c",
            "max": 1156432,
            "min": 0,
            "orientation": "horizontal",
            "style": "IPY_MODEL_cb789f20e0d4495c80ae8500363621a7",
            "value": 1156432
          }
        },
        "40ba38de0f2d41d795d748417830b5f3": {
          "model_module": "@jupyter-widgets/controls",
          "model_name": "HTMLModel",
          "model_module_version": "1.5.0",
          "state": {
            "_dom_classes": [],
            "_model_module": "@jupyter-widgets/controls",
            "_model_module_version": "1.5.0",
            "_model_name": "HTMLModel",
            "_view_count": null,
            "_view_module": "@jupyter-widgets/controls",
            "_view_module_version": "1.5.0",
            "_view_name": "HTMLView",
            "description": "",
            "description_tooltip": null,
            "layout": "IPY_MODEL_eb18696789f54bd08c1901b9dbf2ce19",
            "placeholder": "​",
            "style": "IPY_MODEL_c43ee5e07c244ef8b482c31fa28568a6",
            "value": " 1156432/1156432 [00:02&lt;00:00, 600620.08it/s]"
          }
        },
        "6a3646dc24a947c1a4468629e0d13107": {
          "model_module": "@jupyter-widgets/base",
          "model_name": "LayoutModel",
          "model_module_version": "1.2.0",
          "state": {
            "_model_module": "@jupyter-widgets/base",
            "_model_module_version": "1.2.0",
            "_model_name": "LayoutModel",
            "_view_count": null,
            "_view_module": "@jupyter-widgets/base",
            "_view_module_version": "1.2.0",
            "_view_name": "LayoutView",
            "align_content": null,
            "align_items": null,
            "align_self": null,
            "border": null,
            "bottom": null,
            "display": null,
            "flex": null,
            "flex_flow": null,
            "grid_area": null,
            "grid_auto_columns": null,
            "grid_auto_flow": null,
            "grid_auto_rows": null,
            "grid_column": null,
            "grid_gap": null,
            "grid_row": null,
            "grid_template_areas": null,
            "grid_template_columns": null,
            "grid_template_rows": null,
            "height": null,
            "justify_content": null,
            "justify_items": null,
            "left": null,
            "margin": null,
            "max_height": null,
            "max_width": null,
            "min_height": null,
            "min_width": null,
            "object_fit": null,
            "object_position": null,
            "order": null,
            "overflow": null,
            "overflow_x": null,
            "overflow_y": null,
            "padding": null,
            "right": null,
            "top": null,
            "visibility": null,
            "width": null
          }
        },
        "71deb1c8b6b9487bae9fc2d90927439f": {
          "model_module": "@jupyter-widgets/base",
          "model_name": "LayoutModel",
          "model_module_version": "1.2.0",
          "state": {
            "_model_module": "@jupyter-widgets/base",
            "_model_module_version": "1.2.0",
            "_model_name": "LayoutModel",
            "_view_count": null,
            "_view_module": "@jupyter-widgets/base",
            "_view_module_version": "1.2.0",
            "_view_name": "LayoutView",
            "align_content": null,
            "align_items": null,
            "align_self": null,
            "border": null,
            "bottom": null,
            "display": null,
            "flex": null,
            "flex_flow": null,
            "grid_area": null,
            "grid_auto_columns": null,
            "grid_auto_flow": null,
            "grid_auto_rows": null,
            "grid_column": null,
            "grid_gap": null,
            "grid_row": null,
            "grid_template_areas": null,
            "grid_template_columns": null,
            "grid_template_rows": null,
            "height": null,
            "justify_content": null,
            "justify_items": null,
            "left": null,
            "margin": null,
            "max_height": null,
            "max_width": null,
            "min_height": null,
            "min_width": null,
            "object_fit": null,
            "object_position": null,
            "order": null,
            "overflow": null,
            "overflow_x": null,
            "overflow_y": null,
            "padding": null,
            "right": null,
            "top": null,
            "visibility": null,
            "width": null
          }
        },
        "db71882563e749b6ab340770d07d6bc0": {
          "model_module": "@jupyter-widgets/controls",
          "model_name": "DescriptionStyleModel",
          "model_module_version": "1.5.0",
          "state": {
            "_model_module": "@jupyter-widgets/controls",
            "_model_module_version": "1.5.0",
            "_model_name": "DescriptionStyleModel",
            "_view_count": null,
            "_view_module": "@jupyter-widgets/base",
            "_view_module_version": "1.2.0",
            "_view_name": "StyleView",
            "description_width": ""
          }
        },
        "390fb7eff0a64e95b27bc980e9b8894c": {
          "model_module": "@jupyter-widgets/base",
          "model_name": "LayoutModel",
          "model_module_version": "1.2.0",
          "state": {
            "_model_module": "@jupyter-widgets/base",
            "_model_module_version": "1.2.0",
            "_model_name": "LayoutModel",
            "_view_count": null,
            "_view_module": "@jupyter-widgets/base",
            "_view_module_version": "1.2.0",
            "_view_name": "LayoutView",
            "align_content": null,
            "align_items": null,
            "align_self": null,
            "border": null,
            "bottom": null,
            "display": null,
            "flex": null,
            "flex_flow": null,
            "grid_area": null,
            "grid_auto_columns": null,
            "grid_auto_flow": null,
            "grid_auto_rows": null,
            "grid_column": null,
            "grid_gap": null,
            "grid_row": null,
            "grid_template_areas": null,
            "grid_template_columns": null,
            "grid_template_rows": null,
            "height": null,
            "justify_content": null,
            "justify_items": null,
            "left": null,
            "margin": null,
            "max_height": null,
            "max_width": null,
            "min_height": null,
            "min_width": null,
            "object_fit": null,
            "object_position": null,
            "order": null,
            "overflow": null,
            "overflow_x": null,
            "overflow_y": null,
            "padding": null,
            "right": null,
            "top": null,
            "visibility": null,
            "width": null
          }
        },
        "cb789f20e0d4495c80ae8500363621a7": {
          "model_module": "@jupyter-widgets/controls",
          "model_name": "ProgressStyleModel",
          "model_module_version": "1.5.0",
          "state": {
            "_model_module": "@jupyter-widgets/controls",
            "_model_module_version": "1.5.0",
            "_model_name": "ProgressStyleModel",
            "_view_count": null,
            "_view_module": "@jupyter-widgets/base",
            "_view_module_version": "1.2.0",
            "_view_name": "StyleView",
            "bar_color": null,
            "description_width": ""
          }
        },
        "eb18696789f54bd08c1901b9dbf2ce19": {
          "model_module": "@jupyter-widgets/base",
          "model_name": "LayoutModel",
          "model_module_version": "1.2.0",
          "state": {
            "_model_module": "@jupyter-widgets/base",
            "_model_module_version": "1.2.0",
            "_model_name": "LayoutModel",
            "_view_count": null,
            "_view_module": "@jupyter-widgets/base",
            "_view_module_version": "1.2.0",
            "_view_name": "LayoutView",
            "align_content": null,
            "align_items": null,
            "align_self": null,
            "border": null,
            "bottom": null,
            "display": null,
            "flex": null,
            "flex_flow": null,
            "grid_area": null,
            "grid_auto_columns": null,
            "grid_auto_flow": null,
            "grid_auto_rows": null,
            "grid_column": null,
            "grid_gap": null,
            "grid_row": null,
            "grid_template_areas": null,
            "grid_template_columns": null,
            "grid_template_rows": null,
            "height": null,
            "justify_content": null,
            "justify_items": null,
            "left": null,
            "margin": null,
            "max_height": null,
            "max_width": null,
            "min_height": null,
            "min_width": null,
            "object_fit": null,
            "object_position": null,
            "order": null,
            "overflow": null,
            "overflow_x": null,
            "overflow_y": null,
            "padding": null,
            "right": null,
            "top": null,
            "visibility": null,
            "width": null
          }
        },
        "c43ee5e07c244ef8b482c31fa28568a6": {
          "model_module": "@jupyter-widgets/controls",
          "model_name": "DescriptionStyleModel",
          "model_module_version": "1.5.0",
          "state": {
            "_model_module": "@jupyter-widgets/controls",
            "_model_module_version": "1.5.0",
            "_model_name": "DescriptionStyleModel",
            "_view_count": null,
            "_view_module": "@jupyter-widgets/base",
            "_view_module_version": "1.2.0",
            "_view_name": "StyleView",
            "description_width": ""
          }
        }
      }
    }
  },
  "cells": [
    {
      "cell_type": "code",
      "execution_count": 1,
      "metadata": {
        "colab": {
          "base_uri": "https://localhost:8080/"
        },
        "id": "_nSwqRXApQxI",
        "outputId": "08d8fce4-5640-413f-87ce-7c1108e62b7c"
      },
      "outputs": [
        {
          "output_type": "stream",
          "name": "stdout",
          "text": [
            "Mounted at /content/drive\n"
          ]
        }
      ],
      "source": [
        "from google.colab import drive\n",
        "import pandas as pd\n",
        "import gzip\n",
        "import re\n",
        "from tqdm.auto import tqdm\n",
        "\n",
        "drive.mount('/content/drive')"
      ]
    },
    {
      "cell_type": "code",
      "source": [
        "rewiew_path = './drive/My Drive/nlp_hw/Software.json.gz' \n",
        "metadata_path = './drive/My Drive/nlp_hw/meta_Software.json.gz' "
      ],
      "metadata": {
        "id": "iuH7cHGQrBBQ"
      },
      "execution_count": 2,
      "outputs": []
    },
    {
      "cell_type": "code",
      "source": [
        "true = True\n",
        "false = False"
      ],
      "metadata": {
        "id": "-0POk-M_rbLf"
      },
      "execution_count": 3,
      "outputs": []
    },
    {
      "cell_type": "code",
      "source": [
        "def parse(path):\n",
        "  g = gzip.open(path, 'rb')\n",
        "  for l in g:\n",
        "    yield eval(l)\n",
        "\n",
        "def getDF(path):\n",
        "  i = 0\n",
        "  df = {}\n",
        "  for d in parse(path):\n",
        "    df[i] = d\n",
        "    i += 1\n",
        "  return pd.DataFrame.from_dict(df, orient='index')"
      ],
      "metadata": {
        "id": "mUm9pttpqN1P"
      },
      "execution_count": 4,
      "outputs": []
    },
    {
      "cell_type": "code",
      "source": [
        "review_df = getDF(rewiew_path)\n",
        "metadata_df = getDF(metadata_path)"
      ],
      "metadata": {
        "id": "NSZdJWVzsNoy"
      },
      "execution_count": 5,
      "outputs": []
    },
    {
      "cell_type": "code",
      "source": [
        "review_df.head(2)"
      ],
      "metadata": {
        "colab": {
          "base_uri": "https://localhost:8080/",
          "height": 112
        },
        "id": "K46QksoBrzIQ",
        "outputId": "304d26f4-4bbd-4d7b-fdb4-19c9aa8d97ed"
      },
      "execution_count": 6,
      "outputs": [
        {
          "output_type": "execute_result",
          "data": {
            "text/plain": [
              "   overall  verified   reviewTime      reviewerID        asin  \\\n",
              "0      4.0      True  03 11, 2014  A240ORQ2LF9LUI  0077613252   \n",
              "1      4.0      True  02 23, 2014  A1YCCU0YRLS0FE  0077613252   \n",
              "\n",
              "                        style         reviewerName  \\\n",
              "0  {'Format:': ' Loose Leaf'}           Michelle W   \n",
              "1  {'Format:': ' Loose Leaf'}  Rosalind White Ames   \n",
              "\n",
              "                                          reviewText         summary  \\\n",
              "0  The materials arrived early and were in excell...  Material Great   \n",
              "1  I am really enjoying this book with the worksh...          Health   \n",
              "\n",
              "   unixReviewTime vote image  \n",
              "0      1394496000  NaN   NaN  \n",
              "1      1393113600  NaN   NaN  "
            ],
            "text/html": [
              "\n",
              "  <div id=\"df-0ea6b958-068d-4447-a6ca-80d164a2eaab\">\n",
              "    <div class=\"colab-df-container\">\n",
              "      <div>\n",
              "<style scoped>\n",
              "    .dataframe tbody tr th:only-of-type {\n",
              "        vertical-align: middle;\n",
              "    }\n",
              "\n",
              "    .dataframe tbody tr th {\n",
              "        vertical-align: top;\n",
              "    }\n",
              "\n",
              "    .dataframe thead th {\n",
              "        text-align: right;\n",
              "    }\n",
              "</style>\n",
              "<table border=\"1\" class=\"dataframe\">\n",
              "  <thead>\n",
              "    <tr style=\"text-align: right;\">\n",
              "      <th></th>\n",
              "      <th>overall</th>\n",
              "      <th>verified</th>\n",
              "      <th>reviewTime</th>\n",
              "      <th>reviewerID</th>\n",
              "      <th>asin</th>\n",
              "      <th>style</th>\n",
              "      <th>reviewerName</th>\n",
              "      <th>reviewText</th>\n",
              "      <th>summary</th>\n",
              "      <th>unixReviewTime</th>\n",
              "      <th>vote</th>\n",
              "      <th>image</th>\n",
              "    </tr>\n",
              "  </thead>\n",
              "  <tbody>\n",
              "    <tr>\n",
              "      <th>0</th>\n",
              "      <td>4.0</td>\n",
              "      <td>True</td>\n",
              "      <td>03 11, 2014</td>\n",
              "      <td>A240ORQ2LF9LUI</td>\n",
              "      <td>0077613252</td>\n",
              "      <td>{'Format:': ' Loose Leaf'}</td>\n",
              "      <td>Michelle W</td>\n",
              "      <td>The materials arrived early and were in excell...</td>\n",
              "      <td>Material Great</td>\n",
              "      <td>1394496000</td>\n",
              "      <td>NaN</td>\n",
              "      <td>NaN</td>\n",
              "    </tr>\n",
              "    <tr>\n",
              "      <th>1</th>\n",
              "      <td>4.0</td>\n",
              "      <td>True</td>\n",
              "      <td>02 23, 2014</td>\n",
              "      <td>A1YCCU0YRLS0FE</td>\n",
              "      <td>0077613252</td>\n",
              "      <td>{'Format:': ' Loose Leaf'}</td>\n",
              "      <td>Rosalind White Ames</td>\n",
              "      <td>I am really enjoying this book with the worksh...</td>\n",
              "      <td>Health</td>\n",
              "      <td>1393113600</td>\n",
              "      <td>NaN</td>\n",
              "      <td>NaN</td>\n",
              "    </tr>\n",
              "  </tbody>\n",
              "</table>\n",
              "</div>\n",
              "      <button class=\"colab-df-convert\" onclick=\"convertToInteractive('df-0ea6b958-068d-4447-a6ca-80d164a2eaab')\"\n",
              "              title=\"Convert this dataframe to an interactive table.\"\n",
              "              style=\"display:none;\">\n",
              "        \n",
              "  <svg xmlns=\"http://www.w3.org/2000/svg\" height=\"24px\"viewBox=\"0 0 24 24\"\n",
              "       width=\"24px\">\n",
              "    <path d=\"M0 0h24v24H0V0z\" fill=\"none\"/>\n",
              "    <path d=\"M18.56 5.44l.94 2.06.94-2.06 2.06-.94-2.06-.94-.94-2.06-.94 2.06-2.06.94zm-11 1L8.5 8.5l.94-2.06 2.06-.94-2.06-.94L8.5 2.5l-.94 2.06-2.06.94zm10 10l.94 2.06.94-2.06 2.06-.94-2.06-.94-.94-2.06-.94 2.06-2.06.94z\"/><path d=\"M17.41 7.96l-1.37-1.37c-.4-.4-.92-.59-1.43-.59-.52 0-1.04.2-1.43.59L10.3 9.45l-7.72 7.72c-.78.78-.78 2.05 0 2.83L4 21.41c.39.39.9.59 1.41.59.51 0 1.02-.2 1.41-.59l7.78-7.78 2.81-2.81c.8-.78.8-2.07 0-2.86zM5.41 20L4 18.59l7.72-7.72 1.47 1.35L5.41 20z\"/>\n",
              "  </svg>\n",
              "      </button>\n",
              "      \n",
              "  <style>\n",
              "    .colab-df-container {\n",
              "      display:flex;\n",
              "      flex-wrap:wrap;\n",
              "      gap: 12px;\n",
              "    }\n",
              "\n",
              "    .colab-df-convert {\n",
              "      background-color: #E8F0FE;\n",
              "      border: none;\n",
              "      border-radius: 50%;\n",
              "      cursor: pointer;\n",
              "      display: none;\n",
              "      fill: #1967D2;\n",
              "      height: 32px;\n",
              "      padding: 0 0 0 0;\n",
              "      width: 32px;\n",
              "    }\n",
              "\n",
              "    .colab-df-convert:hover {\n",
              "      background-color: #E2EBFA;\n",
              "      box-shadow: 0px 1px 2px rgba(60, 64, 67, 0.3), 0px 1px 3px 1px rgba(60, 64, 67, 0.15);\n",
              "      fill: #174EA6;\n",
              "    }\n",
              "\n",
              "    [theme=dark] .colab-df-convert {\n",
              "      background-color: #3B4455;\n",
              "      fill: #D2E3FC;\n",
              "    }\n",
              "\n",
              "    [theme=dark] .colab-df-convert:hover {\n",
              "      background-color: #434B5C;\n",
              "      box-shadow: 0px 1px 3px 1px rgba(0, 0, 0, 0.15);\n",
              "      filter: drop-shadow(0px 1px 2px rgba(0, 0, 0, 0.3));\n",
              "      fill: #FFFFFF;\n",
              "    }\n",
              "  </style>\n",
              "\n",
              "      <script>\n",
              "        const buttonEl =\n",
              "          document.querySelector('#df-0ea6b958-068d-4447-a6ca-80d164a2eaab button.colab-df-convert');\n",
              "        buttonEl.style.display =\n",
              "          google.colab.kernel.accessAllowed ? 'block' : 'none';\n",
              "\n",
              "        async function convertToInteractive(key) {\n",
              "          const element = document.querySelector('#df-0ea6b958-068d-4447-a6ca-80d164a2eaab');\n",
              "          const dataTable =\n",
              "            await google.colab.kernel.invokeFunction('convertToInteractive',\n",
              "                                                     [key], {});\n",
              "          if (!dataTable) return;\n",
              "\n",
              "          const docLinkHtml = 'Like what you see? Visit the ' +\n",
              "            '<a target=\"_blank\" href=https://colab.research.google.com/notebooks/data_table.ipynb>data table notebook</a>'\n",
              "            + ' to learn more about interactive tables.';\n",
              "          element.innerHTML = '';\n",
              "          dataTable['output_type'] = 'display_data';\n",
              "          await google.colab.output.renderOutput(dataTable, element);\n",
              "          const docLink = document.createElement('div');\n",
              "          docLink.innerHTML = docLinkHtml;\n",
              "          element.appendChild(docLink);\n",
              "        }\n",
              "      </script>\n",
              "    </div>\n",
              "  </div>\n",
              "  "
            ]
          },
          "metadata": {},
          "execution_count": 6
        }
      ]
    },
    {
      "cell_type": "code",
      "source": [
        "metadata_df.head(2)"
      ],
      "metadata": {
        "colab": {
          "base_uri": "https://localhost:8080/",
          "height": 278
        },
        "id": "Kx7T0dvOQaQP",
        "outputId": "389cc769-2acb-4126-ab4a-e630194aeef5"
      },
      "execution_count": 7,
      "outputs": [
        {
          "output_type": "execute_result",
          "data": {
            "text/plain": [
              "  category tech1                                        description fit  \\\n",
              "0       []                                                       []       \n",
              "1       []        [, <b>Latin rhythms that will get your kids si...       \n",
              "\n",
              "                                               title also_buy tech2  \\\n",
              "0  HOLT PHYSICS LESSON PRESENTATION CD-ROM QUICK ...       []         \n",
              "1  Sing, Watch, &amp; Learn Spanish (DVD + Guide)...       []         \n",
              "\n",
              "                        brand feature                  rank also_view  \\\n",
              "0  HOLT. RINEHART AND WINSTON      []  25,550 in Software (        []   \n",
              "1                 McGraw Hill      []  15,792 in Software (        []   \n",
              "\n",
              "   main_cat similar_item    date  \\\n",
              "0  Software               </div>   \n",
              "1  Software               </div>   \n",
              "\n",
              "                                               price        asin  \\\n",
              "0  .a-box-inner{background-color:#fff}#alohaBuyBo...  0030672120   \n",
              "1                                                     0071480935   \n",
              "\n",
              "                                            imageURL  \\\n",
              "0                                                 []   \n",
              "1  [https://images-na.ssl-images-amazon.com/image...   \n",
              "\n",
              "                                     imageURLHighRes details  \n",
              "0                                                 []     NaN  \n",
              "1  [https://images-na.ssl-images-amazon.com/image...     NaN  "
            ],
            "text/html": [
              "\n",
              "  <div id=\"df-ca02eb6e-3332-41e3-a52f-3748ad136bb2\">\n",
              "    <div class=\"colab-df-container\">\n",
              "      <div>\n",
              "<style scoped>\n",
              "    .dataframe tbody tr th:only-of-type {\n",
              "        vertical-align: middle;\n",
              "    }\n",
              "\n",
              "    .dataframe tbody tr th {\n",
              "        vertical-align: top;\n",
              "    }\n",
              "\n",
              "    .dataframe thead th {\n",
              "        text-align: right;\n",
              "    }\n",
              "</style>\n",
              "<table border=\"1\" class=\"dataframe\">\n",
              "  <thead>\n",
              "    <tr style=\"text-align: right;\">\n",
              "      <th></th>\n",
              "      <th>category</th>\n",
              "      <th>tech1</th>\n",
              "      <th>description</th>\n",
              "      <th>fit</th>\n",
              "      <th>title</th>\n",
              "      <th>also_buy</th>\n",
              "      <th>tech2</th>\n",
              "      <th>brand</th>\n",
              "      <th>feature</th>\n",
              "      <th>rank</th>\n",
              "      <th>also_view</th>\n",
              "      <th>main_cat</th>\n",
              "      <th>similar_item</th>\n",
              "      <th>date</th>\n",
              "      <th>price</th>\n",
              "      <th>asin</th>\n",
              "      <th>imageURL</th>\n",
              "      <th>imageURLHighRes</th>\n",
              "      <th>details</th>\n",
              "    </tr>\n",
              "  </thead>\n",
              "  <tbody>\n",
              "    <tr>\n",
              "      <th>0</th>\n",
              "      <td>[]</td>\n",
              "      <td></td>\n",
              "      <td>[]</td>\n",
              "      <td></td>\n",
              "      <td>HOLT PHYSICS LESSON PRESENTATION CD-ROM QUICK ...</td>\n",
              "      <td>[]</td>\n",
              "      <td></td>\n",
              "      <td>HOLT. RINEHART AND WINSTON</td>\n",
              "      <td>[]</td>\n",
              "      <td>25,550 in Software (</td>\n",
              "      <td>[]</td>\n",
              "      <td>Software</td>\n",
              "      <td></td>\n",
              "      <td>&lt;/div&gt;</td>\n",
              "      <td>.a-box-inner{background-color:#fff}#alohaBuyBo...</td>\n",
              "      <td>0030672120</td>\n",
              "      <td>[]</td>\n",
              "      <td>[]</td>\n",
              "      <td>NaN</td>\n",
              "    </tr>\n",
              "    <tr>\n",
              "      <th>1</th>\n",
              "      <td>[]</td>\n",
              "      <td></td>\n",
              "      <td>[, &lt;b&gt;Latin rhythms that will get your kids si...</td>\n",
              "      <td></td>\n",
              "      <td>Sing, Watch, &amp;amp; Learn Spanish (DVD + Guide)...</td>\n",
              "      <td>[]</td>\n",
              "      <td></td>\n",
              "      <td>McGraw Hill</td>\n",
              "      <td>[]</td>\n",
              "      <td>15,792 in Software (</td>\n",
              "      <td>[]</td>\n",
              "      <td>Software</td>\n",
              "      <td></td>\n",
              "      <td>&lt;/div&gt;</td>\n",
              "      <td></td>\n",
              "      <td>0071480935</td>\n",
              "      <td>[https://images-na.ssl-images-amazon.com/image...</td>\n",
              "      <td>[https://images-na.ssl-images-amazon.com/image...</td>\n",
              "      <td>NaN</td>\n",
              "    </tr>\n",
              "  </tbody>\n",
              "</table>\n",
              "</div>\n",
              "      <button class=\"colab-df-convert\" onclick=\"convertToInteractive('df-ca02eb6e-3332-41e3-a52f-3748ad136bb2')\"\n",
              "              title=\"Convert this dataframe to an interactive table.\"\n",
              "              style=\"display:none;\">\n",
              "        \n",
              "  <svg xmlns=\"http://www.w3.org/2000/svg\" height=\"24px\"viewBox=\"0 0 24 24\"\n",
              "       width=\"24px\">\n",
              "    <path d=\"M0 0h24v24H0V0z\" fill=\"none\"/>\n",
              "    <path d=\"M18.56 5.44l.94 2.06.94-2.06 2.06-.94-2.06-.94-.94-2.06-.94 2.06-2.06.94zm-11 1L8.5 8.5l.94-2.06 2.06-.94-2.06-.94L8.5 2.5l-.94 2.06-2.06.94zm10 10l.94 2.06.94-2.06 2.06-.94-2.06-.94-.94-2.06-.94 2.06-2.06.94z\"/><path d=\"M17.41 7.96l-1.37-1.37c-.4-.4-.92-.59-1.43-.59-.52 0-1.04.2-1.43.59L10.3 9.45l-7.72 7.72c-.78.78-.78 2.05 0 2.83L4 21.41c.39.39.9.59 1.41.59.51 0 1.02-.2 1.41-.59l7.78-7.78 2.81-2.81c.8-.78.8-2.07 0-2.86zM5.41 20L4 18.59l7.72-7.72 1.47 1.35L5.41 20z\"/>\n",
              "  </svg>\n",
              "      </button>\n",
              "      \n",
              "  <style>\n",
              "    .colab-df-container {\n",
              "      display:flex;\n",
              "      flex-wrap:wrap;\n",
              "      gap: 12px;\n",
              "    }\n",
              "\n",
              "    .colab-df-convert {\n",
              "      background-color: #E8F0FE;\n",
              "      border: none;\n",
              "      border-radius: 50%;\n",
              "      cursor: pointer;\n",
              "      display: none;\n",
              "      fill: #1967D2;\n",
              "      height: 32px;\n",
              "      padding: 0 0 0 0;\n",
              "      width: 32px;\n",
              "    }\n",
              "\n",
              "    .colab-df-convert:hover {\n",
              "      background-color: #E2EBFA;\n",
              "      box-shadow: 0px 1px 2px rgba(60, 64, 67, 0.3), 0px 1px 3px 1px rgba(60, 64, 67, 0.15);\n",
              "      fill: #174EA6;\n",
              "    }\n",
              "\n",
              "    [theme=dark] .colab-df-convert {\n",
              "      background-color: #3B4455;\n",
              "      fill: #D2E3FC;\n",
              "    }\n",
              "\n",
              "    [theme=dark] .colab-df-convert:hover {\n",
              "      background-color: #434B5C;\n",
              "      box-shadow: 0px 1px 3px 1px rgba(0, 0, 0, 0.15);\n",
              "      filter: drop-shadow(0px 1px 2px rgba(0, 0, 0, 0.3));\n",
              "      fill: #FFFFFF;\n",
              "    }\n",
              "  </style>\n",
              "\n",
              "      <script>\n",
              "        const buttonEl =\n",
              "          document.querySelector('#df-ca02eb6e-3332-41e3-a52f-3748ad136bb2 button.colab-df-convert');\n",
              "        buttonEl.style.display =\n",
              "          google.colab.kernel.accessAllowed ? 'block' : 'none';\n",
              "\n",
              "        async function convertToInteractive(key) {\n",
              "          const element = document.querySelector('#df-ca02eb6e-3332-41e3-a52f-3748ad136bb2');\n",
              "          const dataTable =\n",
              "            await google.colab.kernel.invokeFunction('convertToInteractive',\n",
              "                                                     [key], {});\n",
              "          if (!dataTable) return;\n",
              "\n",
              "          const docLinkHtml = 'Like what you see? Visit the ' +\n",
              "            '<a target=\"_blank\" href=https://colab.research.google.com/notebooks/data_table.ipynb>data table notebook</a>'\n",
              "            + ' to learn more about interactive tables.';\n",
              "          element.innerHTML = '';\n",
              "          dataTable['output_type'] = 'display_data';\n",
              "          await google.colab.output.renderOutput(dataTable, element);\n",
              "          const docLink = document.createElement('div');\n",
              "          docLink.innerHTML = docLinkHtml;\n",
              "          element.appendChild(docLink);\n",
              "        }\n",
              "      </script>\n",
              "    </div>\n",
              "  </div>\n",
              "  "
            ]
          },
          "metadata": {},
          "execution_count": 7
        }
      ]
    },
    {
      "cell_type": "markdown",
      "source": [
        "# 1. 3 способа найти упоминания товаров в отзывах\n"
      ],
      "metadata": {
        "id": "cQCeQZNWPOWU"
      }
    },
    {
      "cell_type": "markdown",
      "source": [
        "1. Найти все n-граммы из заголовков (убрав стоп-слова), попытаться найти самые частотные из них, а их же в свою очередь искать в отзывах (+: не найдется ничего лишнего; -: в отзывах могут появляться слова, не встречающиеся в названии продукта, но тем не менее являющиеся его обозначением, их упустим)\n",
        "\n",
        "2. С помощью tf-idf найти наиболее значимые слова в отзывах, затем отсортировать их по частям речи (+: найдем специфичные слова (которые, например, могут входить в название модели); -: многое упустим)\n",
        "\n",
        "3. Найти ключевые слова и их совпадение с заголовками (+: не упустит длинные названия и в целом биграммы; -: неточные и скорее всего неполные данные)"
      ],
      "metadata": {
        "id": "u57qeRfQREMw"
      }
    },
    {
      "cell_type": "markdown",
      "source": [
        "# 2. Первый способ\n",
        "\n",
        "Я выбрала первый способ. На данном этапе выделим те слова в отзывах, которые входят в название, на следующем найдем соседей, которые тоже входят в заголовок. "
      ],
      "metadata": {
        "id": "Biuo0wS4PVX5"
      }
    },
    {
      "cell_type": "code",
      "source": [
        "review_df = review_df[['asin', 'reviewText']]\n",
        "df = pd.merge(review_df.groupby('asin').agg(list), metadata_df[['asin', 'title']], on='asin')\n",
        "df = df.dropna()"
      ],
      "metadata": {
        "id": "vW1WmqIfsUGB"
      },
      "execution_count": null,
      "outputs": []
    },
    {
      "cell_type": "code",
      "source": [
        "def clean_text(text):\n",
        "  text = re.sub('[^a-z0-9 ]', ' ', text.lower())\n",
        "  text = re.sub(' +', ' ', text)\n",
        "  return text.strip(' ')"
      ],
      "metadata": {
        "id": "7XJyYbaEoSVx"
      },
      "execution_count": 38,
      "outputs": []
    },
    {
      "cell_type": "code",
      "source": [
        "df['title'] = df['title'].apply(lambda x: clean_text(x))\n",
        "df['reviewText'] = df['reviewText'].apply(lambda x: ' # '.join([clean_text(i) for i in x]))"
      ],
      "metadata": {
        "id": "0TeJmkE-tPNn"
      },
      "execution_count": 41,
      "outputs": []
    },
    {
      "cell_type": "code",
      "source": [
        "df"
      ],
      "metadata": {
        "colab": {
          "base_uri": "https://localhost:8080/",
          "height": 424
        },
        "id": "bU64LB_buzM3",
        "outputId": "709b79bf-1c39-4ce2-b895-019b54b25e73"
      },
      "execution_count": 42,
      "outputs": [
        {
          "output_type": "execute_result",
          "data": {
            "text/plain": [
              "             asin                                         reviewText  \\\n",
              "0      0030672120                                      good resource   \n",
              "1      0071480935  i expected better quality the video is fuzzy a...   \n",
              "2      007329506X  the ad for this does not say that this only al...   \n",
              "3      0073513458  the required access code for my course is for ...   \n",
              "4      0073525758                                           returned   \n",
              "...           ...                                                ...   \n",
              "26782  B01HEFZJC2  the images are deceptive the pendant is so sma...   \n",
              "26783  B01HEFZKEE  is very nice but it was much smaller than i ex...   \n",
              "26784  B01HF3G4BS  it s a joke # i have multiple licenses of the ...   \n",
              "26785  B01HF41TKI  no instructions no help unless you want to pay...   \n",
              "26786  B01HJAMWOK         good value # very nice designs easy to use   \n",
              "\n",
              "                                                   title  \n",
              "0      holt physics lesson presentation cd rom quick ...  \n",
              "1      sing watch amp learn spanish dvd guide 16 fun ...  \n",
              "2      connect with learnsmart access card for microb...  \n",
              "3      learnsmart standalone access card for prescott...  \n",
              "4      anatomy amp physiology revealed student access...  \n",
              "...                                                  ...  \n",
              "26782  925 sterling silver angel wings heart pendant ...  \n",
              "26783  925 sterling silver love heart opal pendant ne...  \n",
              "26784  intego mac internet security x9 1 mac 1 year p...  \n",
              "26785  versacheck x9 small and medium business 2016 3...  \n",
              "26786  cnc designs vector graphics for computer contr...  \n",
              "\n",
              "[26787 rows x 3 columns]"
            ],
            "text/html": [
              "\n",
              "  <div id=\"df-bd20118c-1051-4edf-8925-67dd21d89194\">\n",
              "    <div class=\"colab-df-container\">\n",
              "      <div>\n",
              "<style scoped>\n",
              "    .dataframe tbody tr th:only-of-type {\n",
              "        vertical-align: middle;\n",
              "    }\n",
              "\n",
              "    .dataframe tbody tr th {\n",
              "        vertical-align: top;\n",
              "    }\n",
              "\n",
              "    .dataframe thead th {\n",
              "        text-align: right;\n",
              "    }\n",
              "</style>\n",
              "<table border=\"1\" class=\"dataframe\">\n",
              "  <thead>\n",
              "    <tr style=\"text-align: right;\">\n",
              "      <th></th>\n",
              "      <th>asin</th>\n",
              "      <th>reviewText</th>\n",
              "      <th>title</th>\n",
              "    </tr>\n",
              "  </thead>\n",
              "  <tbody>\n",
              "    <tr>\n",
              "      <th>0</th>\n",
              "      <td>0030672120</td>\n",
              "      <td>good resource</td>\n",
              "      <td>holt physics lesson presentation cd rom quick ...</td>\n",
              "    </tr>\n",
              "    <tr>\n",
              "      <th>1</th>\n",
              "      <td>0071480935</td>\n",
              "      <td>i expected better quality the video is fuzzy a...</td>\n",
              "      <td>sing watch amp learn spanish dvd guide 16 fun ...</td>\n",
              "    </tr>\n",
              "    <tr>\n",
              "      <th>2</th>\n",
              "      <td>007329506X</td>\n",
              "      <td>the ad for this does not say that this only al...</td>\n",
              "      <td>connect with learnsmart access card for microb...</td>\n",
              "    </tr>\n",
              "    <tr>\n",
              "      <th>3</th>\n",
              "      <td>0073513458</td>\n",
              "      <td>the required access code for my course is for ...</td>\n",
              "      <td>learnsmart standalone access card for prescott...</td>\n",
              "    </tr>\n",
              "    <tr>\n",
              "      <th>4</th>\n",
              "      <td>0073525758</td>\n",
              "      <td>returned</td>\n",
              "      <td>anatomy amp physiology revealed student access...</td>\n",
              "    </tr>\n",
              "    <tr>\n",
              "      <th>...</th>\n",
              "      <td>...</td>\n",
              "      <td>...</td>\n",
              "      <td>...</td>\n",
              "    </tr>\n",
              "    <tr>\n",
              "      <th>26782</th>\n",
              "      <td>B01HEFZJC2</td>\n",
              "      <td>the images are deceptive the pendant is so sma...</td>\n",
              "      <td>925 sterling silver angel wings heart pendant ...</td>\n",
              "    </tr>\n",
              "    <tr>\n",
              "      <th>26783</th>\n",
              "      <td>B01HEFZKEE</td>\n",
              "      <td>is very nice but it was much smaller than i ex...</td>\n",
              "      <td>925 sterling silver love heart opal pendant ne...</td>\n",
              "    </tr>\n",
              "    <tr>\n",
              "      <th>26784</th>\n",
              "      <td>B01HF3G4BS</td>\n",
              "      <td>it s a joke # i have multiple licenses of the ...</td>\n",
              "      <td>intego mac internet security x9 1 mac 1 year p...</td>\n",
              "    </tr>\n",
              "    <tr>\n",
              "      <th>26785</th>\n",
              "      <td>B01HF41TKI</td>\n",
              "      <td>no instructions no help unless you want to pay...</td>\n",
              "      <td>versacheck x9 small and medium business 2016 3...</td>\n",
              "    </tr>\n",
              "    <tr>\n",
              "      <th>26786</th>\n",
              "      <td>B01HJAMWOK</td>\n",
              "      <td>good value # very nice designs easy to use</td>\n",
              "      <td>cnc designs vector graphics for computer contr...</td>\n",
              "    </tr>\n",
              "  </tbody>\n",
              "</table>\n",
              "<p>26787 rows × 3 columns</p>\n",
              "</div>\n",
              "      <button class=\"colab-df-convert\" onclick=\"convertToInteractive('df-bd20118c-1051-4edf-8925-67dd21d89194')\"\n",
              "              title=\"Convert this dataframe to an interactive table.\"\n",
              "              style=\"display:none;\">\n",
              "        \n",
              "  <svg xmlns=\"http://www.w3.org/2000/svg\" height=\"24px\"viewBox=\"0 0 24 24\"\n",
              "       width=\"24px\">\n",
              "    <path d=\"M0 0h24v24H0V0z\" fill=\"none\"/>\n",
              "    <path d=\"M18.56 5.44l.94 2.06.94-2.06 2.06-.94-2.06-.94-.94-2.06-.94 2.06-2.06.94zm-11 1L8.5 8.5l.94-2.06 2.06-.94-2.06-.94L8.5 2.5l-.94 2.06-2.06.94zm10 10l.94 2.06.94-2.06 2.06-.94-2.06-.94-.94-2.06-.94 2.06-2.06.94z\"/><path d=\"M17.41 7.96l-1.37-1.37c-.4-.4-.92-.59-1.43-.59-.52 0-1.04.2-1.43.59L10.3 9.45l-7.72 7.72c-.78.78-.78 2.05 0 2.83L4 21.41c.39.39.9.59 1.41.59.51 0 1.02-.2 1.41-.59l7.78-7.78 2.81-2.81c.8-.78.8-2.07 0-2.86zM5.41 20L4 18.59l7.72-7.72 1.47 1.35L5.41 20z\"/>\n",
              "  </svg>\n",
              "      </button>\n",
              "      \n",
              "  <style>\n",
              "    .colab-df-container {\n",
              "      display:flex;\n",
              "      flex-wrap:wrap;\n",
              "      gap: 12px;\n",
              "    }\n",
              "\n",
              "    .colab-df-convert {\n",
              "      background-color: #E8F0FE;\n",
              "      border: none;\n",
              "      border-radius: 50%;\n",
              "      cursor: pointer;\n",
              "      display: none;\n",
              "      fill: #1967D2;\n",
              "      height: 32px;\n",
              "      padding: 0 0 0 0;\n",
              "      width: 32px;\n",
              "    }\n",
              "\n",
              "    .colab-df-convert:hover {\n",
              "      background-color: #E2EBFA;\n",
              "      box-shadow: 0px 1px 2px rgba(60, 64, 67, 0.3), 0px 1px 3px 1px rgba(60, 64, 67, 0.15);\n",
              "      fill: #174EA6;\n",
              "    }\n",
              "\n",
              "    [theme=dark] .colab-df-convert {\n",
              "      background-color: #3B4455;\n",
              "      fill: #D2E3FC;\n",
              "    }\n",
              "\n",
              "    [theme=dark] .colab-df-convert:hover {\n",
              "      background-color: #434B5C;\n",
              "      box-shadow: 0px 1px 3px 1px rgba(0, 0, 0, 0.15);\n",
              "      filter: drop-shadow(0px 1px 2px rgba(0, 0, 0, 0.3));\n",
              "      fill: #FFFFFF;\n",
              "    }\n",
              "  </style>\n",
              "\n",
              "      <script>\n",
              "        const buttonEl =\n",
              "          document.querySelector('#df-bd20118c-1051-4edf-8925-67dd21d89194 button.colab-df-convert');\n",
              "        buttonEl.style.display =\n",
              "          google.colab.kernel.accessAllowed ? 'block' : 'none';\n",
              "\n",
              "        async function convertToInteractive(key) {\n",
              "          const element = document.querySelector('#df-bd20118c-1051-4edf-8925-67dd21d89194');\n",
              "          const dataTable =\n",
              "            await google.colab.kernel.invokeFunction('convertToInteractive',\n",
              "                                                     [key], {});\n",
              "          if (!dataTable) return;\n",
              "\n",
              "          const docLinkHtml = 'Like what you see? Visit the ' +\n",
              "            '<a target=\"_blank\" href=https://colab.research.google.com/notebooks/data_table.ipynb>data table notebook</a>'\n",
              "            + ' to learn more about interactive tables.';\n",
              "          element.innerHTML = '';\n",
              "          dataTable['output_type'] = 'display_data';\n",
              "          await google.colab.output.renderOutput(dataTable, element);\n",
              "          const docLink = document.createElement('div');\n",
              "          docLink.innerHTML = docLinkHtml;\n",
              "          element.appendChild(docLink);\n",
              "        }\n",
              "      </script>\n",
              "    </div>\n",
              "  </div>\n",
              "  "
            ]
          },
          "metadata": {},
          "execution_count": 42
        }
      ]
    },
    {
      "cell_type": "code",
      "source": [
        "import nltk\n",
        "from nltk.corpus import stopwords\n",
        "import spacy\n",
        "\n",
        "#nltk.download('stopwords')\n",
        "stoplist = stopwords.words('english')\n",
        "sp = spacy.load('en_core_web_sm')"
      ],
      "metadata": {
        "colab": {
          "base_uri": "https://localhost:8080/"
        },
        "id": "RcI0Pw2B9rLz",
        "outputId": "f2e24840-8b37-4770-dd07-2f9b21062c06"
      },
      "execution_count": 44,
      "outputs": [
        {
          "output_type": "stream",
          "name": "stderr",
          "text": [
            "[nltk_data] Downloading package stopwords to /root/nltk_data...\n",
            "[nltk_data]   Unzipping corpora/stopwords.zip.\n"
          ]
        }
      ]
    },
    {
      "cell_type": "code",
      "source": [
        "asins = list(df['asin'])"
      ],
      "metadata": {
        "id": "sgmWxMD--ZaT"
      },
      "execution_count": 46,
      "outputs": []
    },
    {
      "cell_type": "code",
      "source": [
        "asin_words = {a:[] for a in asins}\n",
        "\n",
        "for asin in tqdm(asins, total=len(asins)):\n",
        "  rev = df[df['asin']==asin]['reviewText'].values[0]\n",
        "  tit = df[df['asin']==asin]['title'].values[0]\n",
        "  words = set(rev.split(' '))\n",
        "  for w in words:\n",
        "    if w not in stoplist and w in tit and w:\n",
        "      pos_tag = sp(w)[0].pos_\n",
        "      if pos_tag == 'NOUN' or pos_tag == 'PROPN':\n",
        "        asin_words[asin].append(w)\n"
      ],
      "metadata": {
        "colab": {
          "base_uri": "https://localhost:8080/",
          "height": 49,
          "referenced_widgets": [
            "56b8f7ebb97446369430127ffb04ed04",
            "f45fa127c7184864b0011b92419fc24c",
            "2c7da11b62e44431b2c78de412880218",
            "f61fba9ccf2e4345a0337a02aff0c1eb",
            "d2fcfc5a854248eba7c97a94c7e3bf2a",
            "890cf06487434bb08c36c68c62d15a38",
            "3a7198b75df944db9520d86785d07b60",
            "7200c6a638574fdd9afd79506c65237a",
            "9790b92f433849b18ab095be27dda547",
            "53ae65f8e21a4f81a98e0c0ab87f6310",
            "eef46c90120b4d44b41db692d46b4954"
          ]
        },
        "id": "Dv9bzbnhvhUQ",
        "outputId": "c595210b-bf1a-4331-e6b4-da28e0b809e1"
      },
      "execution_count": 87,
      "outputs": [
        {
          "output_type": "display_data",
          "data": {
            "text/plain": [
              "  0%|          | 0/26787 [00:00<?, ?it/s]"
            ],
            "application/vnd.jupyter.widget-view+json": {
              "version_major": 2,
              "version_minor": 0,
              "model_id": "56b8f7ebb97446369430127ffb04ed04"
            }
          },
          "metadata": {}
        }
      ]
    },
    {
      "cell_type": "code",
      "source": [
        "df_ = pd.DataFrame({'asin': asin_words.keys(), 'NE': asin_words.values()})\n",
        "df_NE = pd.merge(df, df_, on='asin')"
      ],
      "metadata": {
        "id": "aXVMt4R-RZGE"
      },
      "execution_count": 89,
      "outputs": []
    },
    {
      "cell_type": "code",
      "source": [
        "df_NE"
      ],
      "metadata": {
        "colab": {
          "base_uri": "https://localhost:8080/",
          "height": 424
        },
        "id": "yYk9fp--S3Dl",
        "outputId": "fde7dd71-11ce-4156-c706-bc5a697d9277"
      },
      "execution_count": 92,
      "outputs": [
        {
          "output_type": "execute_result",
          "data": {
            "text/plain": [
              "             asin                                         reviewText  \\\n",
              "0      0030672120                                      good resource   \n",
              "1      0071480935  i expected better quality the video is fuzzy a...   \n",
              "2      007329506X  the ad for this does not say that this only al...   \n",
              "3      0073513458  the required access code for my course is for ...   \n",
              "4      0073525758                                           returned   \n",
              "...           ...                                                ...   \n",
              "26782  B01HEFZJC2  the images are deceptive the pendant is so sma...   \n",
              "26783  B01HEFZKEE  is very nice but it was much smaller than i ex...   \n",
              "26784  B01HF3G4BS  it s a joke # i have multiple licenses of the ...   \n",
              "26785  B01HF41TKI  no instructions no help unless you want to pay...   \n",
              "26786  B01HJAMWOK         good value # very nice designs easy to use   \n",
              "\n",
              "                                                   title  \\\n",
              "0      holt physics lesson presentation cd rom quick ...   \n",
              "1      sing watch amp learn spanish dvd guide 16 fun ...   \n",
              "2      connect with learnsmart access card for microb...   \n",
              "3      learnsmart standalone access card for prescott...   \n",
              "4      anatomy amp physiology revealed student access...   \n",
              "...                                                  ...   \n",
              "26782  925 sterling silver angel wings heart pendant ...   \n",
              "26783  925 sterling silver love heart opal pendant ne...   \n",
              "26784  intego mac internet security x9 1 mac 1 year p...   \n",
              "26785  versacheck x9 small and medium business 2016 3...   \n",
              "26786  cnc designs vector graphics for computer contr...   \n",
              "\n",
              "                                     NE  \n",
              "0                                    []  \n",
              "1              [dvd, music, fun, video]  \n",
              "2                        [access, card]  \n",
              "3      [access, prescott, microbiology]  \n",
              "4                                    []  \n",
              "...                                 ...  \n",
              "26782                                []  \n",
              "26783                            [opal]  \n",
              "26784                                []  \n",
              "26785                                []  \n",
              "26786                         [designs]  \n",
              "\n",
              "[26787 rows x 4 columns]"
            ],
            "text/html": [
              "\n",
              "  <div id=\"df-e80a9d54-5975-4193-9935-1cc131068758\">\n",
              "    <div class=\"colab-df-container\">\n",
              "      <div>\n",
              "<style scoped>\n",
              "    .dataframe tbody tr th:only-of-type {\n",
              "        vertical-align: middle;\n",
              "    }\n",
              "\n",
              "    .dataframe tbody tr th {\n",
              "        vertical-align: top;\n",
              "    }\n",
              "\n",
              "    .dataframe thead th {\n",
              "        text-align: right;\n",
              "    }\n",
              "</style>\n",
              "<table border=\"1\" class=\"dataframe\">\n",
              "  <thead>\n",
              "    <tr style=\"text-align: right;\">\n",
              "      <th></th>\n",
              "      <th>asin</th>\n",
              "      <th>reviewText</th>\n",
              "      <th>title</th>\n",
              "      <th>NE</th>\n",
              "    </tr>\n",
              "  </thead>\n",
              "  <tbody>\n",
              "    <tr>\n",
              "      <th>0</th>\n",
              "      <td>0030672120</td>\n",
              "      <td>good resource</td>\n",
              "      <td>holt physics lesson presentation cd rom quick ...</td>\n",
              "      <td>[]</td>\n",
              "    </tr>\n",
              "    <tr>\n",
              "      <th>1</th>\n",
              "      <td>0071480935</td>\n",
              "      <td>i expected better quality the video is fuzzy a...</td>\n",
              "      <td>sing watch amp learn spanish dvd guide 16 fun ...</td>\n",
              "      <td>[dvd, music, fun, video]</td>\n",
              "    </tr>\n",
              "    <tr>\n",
              "      <th>2</th>\n",
              "      <td>007329506X</td>\n",
              "      <td>the ad for this does not say that this only al...</td>\n",
              "      <td>connect with learnsmart access card for microb...</td>\n",
              "      <td>[access, card]</td>\n",
              "    </tr>\n",
              "    <tr>\n",
              "      <th>3</th>\n",
              "      <td>0073513458</td>\n",
              "      <td>the required access code for my course is for ...</td>\n",
              "      <td>learnsmart standalone access card for prescott...</td>\n",
              "      <td>[access, prescott, microbiology]</td>\n",
              "    </tr>\n",
              "    <tr>\n",
              "      <th>4</th>\n",
              "      <td>0073525758</td>\n",
              "      <td>returned</td>\n",
              "      <td>anatomy amp physiology revealed student access...</td>\n",
              "      <td>[]</td>\n",
              "    </tr>\n",
              "    <tr>\n",
              "      <th>...</th>\n",
              "      <td>...</td>\n",
              "      <td>...</td>\n",
              "      <td>...</td>\n",
              "      <td>...</td>\n",
              "    </tr>\n",
              "    <tr>\n",
              "      <th>26782</th>\n",
              "      <td>B01HEFZJC2</td>\n",
              "      <td>the images are deceptive the pendant is so sma...</td>\n",
              "      <td>925 sterling silver angel wings heart pendant ...</td>\n",
              "      <td>[]</td>\n",
              "    </tr>\n",
              "    <tr>\n",
              "      <th>26783</th>\n",
              "      <td>B01HEFZKEE</td>\n",
              "      <td>is very nice but it was much smaller than i ex...</td>\n",
              "      <td>925 sterling silver love heart opal pendant ne...</td>\n",
              "      <td>[opal]</td>\n",
              "    </tr>\n",
              "    <tr>\n",
              "      <th>26784</th>\n",
              "      <td>B01HF3G4BS</td>\n",
              "      <td>it s a joke # i have multiple licenses of the ...</td>\n",
              "      <td>intego mac internet security x9 1 mac 1 year p...</td>\n",
              "      <td>[]</td>\n",
              "    </tr>\n",
              "    <tr>\n",
              "      <th>26785</th>\n",
              "      <td>B01HF41TKI</td>\n",
              "      <td>no instructions no help unless you want to pay...</td>\n",
              "      <td>versacheck x9 small and medium business 2016 3...</td>\n",
              "      <td>[]</td>\n",
              "    </tr>\n",
              "    <tr>\n",
              "      <th>26786</th>\n",
              "      <td>B01HJAMWOK</td>\n",
              "      <td>good value # very nice designs easy to use</td>\n",
              "      <td>cnc designs vector graphics for computer contr...</td>\n",
              "      <td>[designs]</td>\n",
              "    </tr>\n",
              "  </tbody>\n",
              "</table>\n",
              "<p>26787 rows × 4 columns</p>\n",
              "</div>\n",
              "      <button class=\"colab-df-convert\" onclick=\"convertToInteractive('df-e80a9d54-5975-4193-9935-1cc131068758')\"\n",
              "              title=\"Convert this dataframe to an interactive table.\"\n",
              "              style=\"display:none;\">\n",
              "        \n",
              "  <svg xmlns=\"http://www.w3.org/2000/svg\" height=\"24px\"viewBox=\"0 0 24 24\"\n",
              "       width=\"24px\">\n",
              "    <path d=\"M0 0h24v24H0V0z\" fill=\"none\"/>\n",
              "    <path d=\"M18.56 5.44l.94 2.06.94-2.06 2.06-.94-2.06-.94-.94-2.06-.94 2.06-2.06.94zm-11 1L8.5 8.5l.94-2.06 2.06-.94-2.06-.94L8.5 2.5l-.94 2.06-2.06.94zm10 10l.94 2.06.94-2.06 2.06-.94-2.06-.94-.94-2.06-.94 2.06-2.06.94z\"/><path d=\"M17.41 7.96l-1.37-1.37c-.4-.4-.92-.59-1.43-.59-.52 0-1.04.2-1.43.59L10.3 9.45l-7.72 7.72c-.78.78-.78 2.05 0 2.83L4 21.41c.39.39.9.59 1.41.59.51 0 1.02-.2 1.41-.59l7.78-7.78 2.81-2.81c.8-.78.8-2.07 0-2.86zM5.41 20L4 18.59l7.72-7.72 1.47 1.35L5.41 20z\"/>\n",
              "  </svg>\n",
              "      </button>\n",
              "      \n",
              "  <style>\n",
              "    .colab-df-container {\n",
              "      display:flex;\n",
              "      flex-wrap:wrap;\n",
              "      gap: 12px;\n",
              "    }\n",
              "\n",
              "    .colab-df-convert {\n",
              "      background-color: #E8F0FE;\n",
              "      border: none;\n",
              "      border-radius: 50%;\n",
              "      cursor: pointer;\n",
              "      display: none;\n",
              "      fill: #1967D2;\n",
              "      height: 32px;\n",
              "      padding: 0 0 0 0;\n",
              "      width: 32px;\n",
              "    }\n",
              "\n",
              "    .colab-df-convert:hover {\n",
              "      background-color: #E2EBFA;\n",
              "      box-shadow: 0px 1px 2px rgba(60, 64, 67, 0.3), 0px 1px 3px 1px rgba(60, 64, 67, 0.15);\n",
              "      fill: #174EA6;\n",
              "    }\n",
              "\n",
              "    [theme=dark] .colab-df-convert {\n",
              "      background-color: #3B4455;\n",
              "      fill: #D2E3FC;\n",
              "    }\n",
              "\n",
              "    [theme=dark] .colab-df-convert:hover {\n",
              "      background-color: #434B5C;\n",
              "      box-shadow: 0px 1px 3px 1px rgba(0, 0, 0, 0.15);\n",
              "      filter: drop-shadow(0px 1px 2px rgba(0, 0, 0, 0.3));\n",
              "      fill: #FFFFFF;\n",
              "    }\n",
              "  </style>\n",
              "\n",
              "      <script>\n",
              "        const buttonEl =\n",
              "          document.querySelector('#df-e80a9d54-5975-4193-9935-1cc131068758 button.colab-df-convert');\n",
              "        buttonEl.style.display =\n",
              "          google.colab.kernel.accessAllowed ? 'block' : 'none';\n",
              "\n",
              "        async function convertToInteractive(key) {\n",
              "          const element = document.querySelector('#df-e80a9d54-5975-4193-9935-1cc131068758');\n",
              "          const dataTable =\n",
              "            await google.colab.kernel.invokeFunction('convertToInteractive',\n",
              "                                                     [key], {});\n",
              "          if (!dataTable) return;\n",
              "\n",
              "          const docLinkHtml = 'Like what you see? Visit the ' +\n",
              "            '<a target=\"_blank\" href=https://colab.research.google.com/notebooks/data_table.ipynb>data table notebook</a>'\n",
              "            + ' to learn more about interactive tables.';\n",
              "          element.innerHTML = '';\n",
              "          dataTable['output_type'] = 'display_data';\n",
              "          await google.colab.output.renderOutput(dataTable, element);\n",
              "          const docLink = document.createElement('div');\n",
              "          docLink.innerHTML = docLinkHtml;\n",
              "          element.appendChild(docLink);\n",
              "        }\n",
              "      </script>\n",
              "    </div>\n",
              "  </div>\n",
              "  "
            ]
          },
          "metadata": {},
          "execution_count": 92
        }
      ]
    },
    {
      "cell_type": "code",
      "source": [
        "# df_NE.to_csv('./drive/My Drive/nlp_hw/df_NE.csv', sep='\\t', encoding='utf-8')"
      ],
      "metadata": {
        "id": "sYiMrUHLSH_p"
      },
      "execution_count": 91,
      "outputs": []
    },
    {
      "cell_type": "markdown",
      "source": [
        "# 3. Находим биграммы"
      ],
      "metadata": {
        "id": "IWojchA2PZqC"
      }
    },
    {
      "cell_type": "code",
      "source": [
        "import nltk\n",
        "from nltk.collocations import *\n",
        "from nltk.tokenize import RegexpTokenizer"
      ],
      "metadata": {
        "id": "lr0pPWFbcyGI"
      },
      "execution_count": 121,
      "outputs": []
    },
    {
      "cell_type": "code",
      "source": [
        "df_['NE'] = df_NE['NE'].apply(lambda x: ' '.join(x))\n",
        "NEs = list(set(' '.join(list(df_['NE'])).split(' ')))\n",
        "del NEs[NEs.index('')]"
      ],
      "metadata": {
        "id": "4Ch89Do1UAMQ"
      },
      "execution_count": 119,
      "outputs": []
    },
    {
      "cell_type": "code",
      "source": [
        "tokenizer = RegexpTokenizer(r'\\w+')\n",
        "tok_texts = df_NE['reviewText'].apply(tokenizer.tokenize).to_list()"
      ],
      "metadata": {
        "id": "JNxoSBNXfWaO"
      },
      "execution_count": 124,
      "outputs": []
    },
    {
      "cell_type": "code",
      "source": [
        "finder = BigramCollocationFinder.from_documents(tok_texts)"
      ],
      "metadata": {
        "id": "6_ypU3evbsvi"
      },
      "execution_count": 168,
      "outputs": []
    },
    {
      "cell_type": "markdown",
      "source": [
        "# 4. Сортируем биграммы \n",
        "\n",
        "(one - хотя бы одно слово входит в NEs, double - входят оба слова, как планировалось в пункте 2)\n"
      ],
      "metadata": {
        "id": "zErrriYNPdPy"
      }
    },
    {
      "cell_type": "code",
      "source": [
        "bigram_measures = nltk.collocations.BigramAssocMeasures()"
      ],
      "metadata": {
        "id": "NMUkhyUJfmJq"
      },
      "execution_count": 177,
      "outputs": []
    },
    {
      "cell_type": "code",
      "source": [
        "def find_bigrams(results, n):\n",
        "  correct = []\n",
        "  double = []\n",
        "  for bg in results:\n",
        "    if len(correct) < n:\n",
        "      if bg[0][0] in NEs or bg[0][1] in NEs:\n",
        "        correct.append(bg)\n",
        "    if len(double) < n:\n",
        "      if bg[0][0] in NEs and bg[0][1] in NEs:\n",
        "        double.append(bg)\n",
        "    if len(double) == n and len(correct) == n:\n",
        "      break\n",
        "  return correct, double"
      ],
      "metadata": {
        "id": "ia3aLZ36yl6_"
      },
      "execution_count": 202,
      "outputs": []
    },
    {
      "cell_type": "code",
      "source": [
        "jaccard_one, jaccard_double = find_bigrams(finder.score_ngrams(bigram_measures.jaccard), 15)"
      ],
      "metadata": {
        "id": "Gb9taEvUvY6Z"
      },
      "execution_count": null,
      "outputs": []
    },
    {
      "cell_type": "code",
      "source": [
        "jaccard_one"
      ],
      "metadata": {
        "colab": {
          "base_uri": "https://localhost:8080/"
        },
        "id": "WiLCbxmGwBSz",
        "outputId": "c895cfb1-41e1-4690-94b6-bd196e0a474c"
      },
      "execution_count": 182,
      "outputs": [
        {
          "output_type": "execute_result",
          "data": {
            "text/plain": [
              "[(('agatha', 'christies'), 1.0),\n",
              " (('aoki', 'lapis'), 1.0),\n",
              " (('blackmar', 'diemer'), 1.0),\n",
              " (('calderas', 'eserver'), 1.0),\n",
              " (('cobuild', 'engl'), 1.0),\n",
              " (('cuerpo', 'humano'), 1.0),\n",
              " (('enciclo', 'pedia'), 1.0),\n",
              " (('eserver', 'distrubtion'), 1.0),\n",
              " (('irus', 'productas'), 1.0),\n",
              " (('jacquie', 'lawson'), 1.0),\n",
              " (('mwd', '1470'), 1.0),\n",
              " (('pathagragum', 'numerology'), 1.0),\n",
              " (('pcwa', 'de80'), 1.0),\n",
              " (('prin', 'tshop'), 1.0),\n",
              " (('sheri', 'spaine'), 1.0)]"
            ]
          },
          "metadata": {},
          "execution_count": 182
        }
      ]
    },
    {
      "cell_type": "code",
      "source": [
        "jaccard_double"
      ],
      "metadata": {
        "colab": {
          "base_uri": "https://localhost:8080/"
        },
        "id": "7rSbfAG5vuqd",
        "outputId": "72ac0ddc-6058-4848-9e62-b9968bc48836"
      },
      "execution_count": 183,
      "outputs": [
        {
          "output_type": "execute_result",
          "data": {
            "text/plain": [
              "[(('blackmar', 'diemer'), 1.0),\n",
              " (('jacquie', 'lawson'), 1.0),\n",
              " (('pcwa', 'de80'), 1.0),\n",
              " (('tohoku', 'zunko'), 1.0),\n",
              " (('palo', 'alto'), 0.8783783783783784),\n",
              " (('feng', 'shui'), 0.8235294117647058),\n",
              " (('notre', 'dame'), 0.8125),\n",
              " (('rolie', 'polie'), 0.75),\n",
              " (('mavis', 'beacon'), 0.741421568627451),\n",
              " (('thomson', 'reuters'), 0.7058823529411765),\n",
              " (('sarzo', 'workingman'), 0.6666666666666666),\n",
              " (('suze', 'orman'), 0.6666666666666666),\n",
              " (('yuki', 'kaai'), 0.6666666666666666),\n",
              " (('viet', 'nam'), 0.625),\n",
              " (('wi', 'fi'), 0.6174496644295302)]"
            ]
          },
          "metadata": {},
          "execution_count": 183
        }
      ]
    },
    {
      "cell_type": "code",
      "source": [
        "lr_one, lr_double = find_bigrams(finder.score_ngrams(bigram_measures.likelihood_ratio), 15)"
      ],
      "metadata": {
        "id": "PU9Ox6lZtnNU"
      },
      "execution_count": 184,
      "outputs": []
    },
    {
      "cell_type": "code",
      "source": [
        "lr_one"
      ],
      "metadata": {
        "colab": {
          "base_uri": "https://localhost:8080/"
        },
        "id": "mHxCwP3RwjRB",
        "outputId": "56039baa-bd7e-43a3-e980-74208648fb7b"
      },
      "execution_count": 185,
      "outputs": [
        {
          "output_type": "execute_result",
          "data": {
            "text/plain": [
              "[(('this', 'product'), 282066.45702038996),\n",
              " (('turbo', 'tax'), 248146.89649027036),\n",
              " (('a', 'lot'), 243695.96285201042),\n",
              " (('h', 'r'), 207154.89235820822),\n",
              " (('windows', '7'), 196014.3209526453),\n",
              " (('my', 'computer'), 168545.01487303048),\n",
              " (('this', 'software'), 162445.71250098463),\n",
              " (('this', 'program'), 154382.25950154493),\n",
              " (('r', 'block'), 153622.03622146617),\n",
              " (('lot', 'of'), 147860.42468512597),\n",
              " (('the', 'program'), 146552.4015086915),\n",
              " (('tech', 'support'), 141189.4209628146),\n",
              " (('customer', 'service'), 140621.1885661913),\n",
              " (('windows', '8'), 128676.1243527483),\n",
              " (('user', 'friendly'), 122984.6633744475)]"
            ]
          },
          "metadata": {},
          "execution_count": 185
        }
      ]
    },
    {
      "cell_type": "code",
      "source": [
        "lr_double"
      ],
      "metadata": {
        "colab": {
          "base_uri": "https://localhost:8080/"
        },
        "id": "4onWT3qswkOs",
        "outputId": "ddaa7af7-5b9c-49d8-d8bc-ed694e345e97"
      },
      "execution_count": 186,
      "outputs": [
        {
          "output_type": "execute_result",
          "data": {
            "text/plain": [
              "[(('turbo', 'tax'), 248146.89649027036),\n",
              " (('customer', 'service'), 140621.1885661913),\n",
              " (('internet', 'security'), 84130.74977850678),\n",
              " (('credit', 'card'), 59712.69219544165),\n",
              " (('trend', 'micro'), 58524.659750762956),\n",
              " (('web', 'site'), 54729.24839564377),\n",
              " (('data', 'hook'), 50809.182812423125),\n",
              " (('microsoft', 'office'), 42099.677265910694),\n",
              " (('hook', 'product'), 38519.20078347141),\n",
              " (('error', 'message'), 37509.3260540527),\n",
              " (('ms', 'office'), 36439.714688618886),\n",
              " (('family', 'tree'), 33430.499627406425),\n",
              " (('serial', 'number'), 29365.053494384134),\n",
              " (('product', 'key'), 26650.98015125568),\n",
              " (('clip', 'art'), 23088.41723641813)]"
            ]
          },
          "metadata": {},
          "execution_count": 186
        }
      ]
    },
    {
      "cell_type": "code",
      "source": [
        "pmi_one, pmi_double = find_bigrams(finder.score_ngrams(bigram_measures.pmi), 15)"
      ],
      "metadata": {
        "id": "6C9GDZf8wTk_"
      },
      "execution_count": 187,
      "outputs": []
    },
    {
      "cell_type": "code",
      "source": [
        "pmi_one"
      ],
      "metadata": {
        "colab": {
          "base_uri": "https://localhost:8080/"
        },
        "id": "h3D2XBOjwmLe",
        "outputId": "1a7bcaaf-19ac-4d7f-9a51-d869aa4cd862"
      },
      "execution_count": 188,
      "outputs": [
        {
          "output_type": "execute_result",
          "data": {
            "text/plain": [
              "[(('agatha', 'christies'), 25.300591427591407),\n",
              " (('blackmar', 'diemer'), 25.300591427591407),\n",
              " (('cobuild', 'engl'), 25.300591427591407),\n",
              " (('cuerpo', 'humano'), 25.300591427591407),\n",
              " (('irus', 'productas'), 25.300591427591407),\n",
              " (('mwd', '1470'), 25.300591427591407),\n",
              " (('pathagragum', 'numerology'), 25.300591427591407),\n",
              " (('prin', 'tshop'), 25.300591427591407),\n",
              " (('sheri', 'spaine'), 25.300591427591407),\n",
              " (('tohoku', 'zunko'), 25.300591427591407),\n",
              " (('2900r', 'transceiver'), 24.300591427591407),\n",
              " (('abdellah', 'jaber'), 24.300591427591407),\n",
              " (('biblia', 'hebraica'), 24.300591427591407),\n",
              " (('calderas', 'eserver'), 24.300591427591407),\n",
              " (('dauntless', 'atpl'), 24.300591427591407)]"
            ]
          },
          "metadata": {},
          "execution_count": 188
        }
      ]
    },
    {
      "cell_type": "code",
      "source": [
        "pmi_double"
      ],
      "metadata": {
        "colab": {
          "base_uri": "https://localhost:8080/"
        },
        "id": "6VqdppZMwmPy",
        "outputId": "171c235e-cd40-4ea1-debd-c49789c42016"
      },
      "execution_count": 189,
      "outputs": [
        {
          "output_type": "execute_result",
          "data": {
            "text/plain": [
              "[(('blackmar', 'diemer'), 25.300591427591407),\n",
              " (('tohoku', 'zunko'), 25.300591427591407),\n",
              " (('hayabusa', 'gsxr'), 24.300591427591407),\n",
              " (('jacquie', 'lawson'), 24.300591427591407),\n",
              " (('karsten', 'muller'), 24.300591427591407),\n",
              " (('nekomura', 'iroha'), 24.300591427591407),\n",
              " (('confucius', 'buddha'), 23.715628926870252),\n",
              " (('leviton', 'vizia'), 23.715628926870252),\n",
              " (('madrigal', 'velasco'), 23.715628926870252),\n",
              " (('sarzo', 'workingman'), 23.715628926870252),\n",
              " (('yuki', 'kaai'), 23.715628926870252),\n",
              " (('lacy', 'snowflakes'), 23.300591427591407),\n",
              " (('otherworld', 'omens'), 23.300591427591407),\n",
              " (('pxw', 'fs7'), 23.300591427591407),\n",
              " (('suzuki', 'hayabusa'), 23.300591427591407)]"
            ]
          },
          "metadata": {},
          "execution_count": 189
        }
      ]
    },
    {
      "cell_type": "markdown",
      "source": [
        "На мой взгляд, pmi ранжирует выше наиболее подходящие коллокации, jaccard чуть хуже и likelihood_ratio хуже всех."
      ],
      "metadata": {
        "id": "u2rI7vOIw_MJ"
      }
    },
    {
      "cell_type": "markdown",
      "source": [
        "# 5. Примеры для 5 товаров\n"
      ],
      "metadata": {
        "id": "3kng4xF1Pgk6"
      }
    },
    {
      "cell_type": "code",
      "source": [
        "def find_bigrams(results):\n",
        "  correct = []\n",
        "  for bg in results:\n",
        "    if bg[0][0] in NEs or bg[0][1] in NEs:\n",
        "      correct.append(bg)\n",
        "  return correct"
      ],
      "metadata": {
        "id": "hkjgAroj2tPZ"
      },
      "execution_count": 209,
      "outputs": []
    },
    {
      "cell_type": "code",
      "source": [
        "pmi_one = find_bigrams(finder.score_ngrams(bigram_measures.pmi))"
      ],
      "metadata": {
        "id": "UenYwaZo07DV"
      },
      "execution_count": 210,
      "outputs": []
    },
    {
      "cell_type": "code",
      "source": [
        "import random \n",
        "\n",
        "sample = {word:[] for word in random.sample(NEs, 5)}\n",
        "\n",
        "for bg in tqdm(pmi_one, total=len(pmi_one)):\n",
        "  for word in bg[0]:\n",
        "    if word in sample and len(sample[word]) < 5:\n",
        "      sample[word].append(bg)\n"
      ],
      "metadata": {
        "colab": {
          "base_uri": "https://localhost:8080/",
          "height": 49,
          "referenced_widgets": [
            "b5b6e250f0224f258f5b3f201c2a32a0",
            "5e47c721b3984cb7ae59d64343c69744",
            "460d077305f54747b7864af29e8f9b4b",
            "40ba38de0f2d41d795d748417830b5f3",
            "6a3646dc24a947c1a4468629e0d13107",
            "71deb1c8b6b9487bae9fc2d90927439f",
            "db71882563e749b6ab340770d07d6bc0",
            "390fb7eff0a64e95b27bc980e9b8894c",
            "cb789f20e0d4495c80ae8500363621a7",
            "eb18696789f54bd08c1901b9dbf2ce19",
            "c43ee5e07c244ef8b482c31fa28568a6"
          ]
        },
        "id": "HZGmPQZGPO8K",
        "outputId": "875aff16-7529-4658-c291-fc322fbe8b95"
      },
      "execution_count": 215,
      "outputs": [
        {
          "output_type": "display_data",
          "data": {
            "text/plain": [
              "  0%|          | 0/1156432 [00:00<?, ?it/s]"
            ],
            "application/vnd.jupyter.widget-view+json": {
              "version_major": 2,
              "version_minor": 0,
              "model_id": "b5b6e250f0224f258f5b3f201c2a32a0"
            }
          },
          "metadata": {}
        }
      ]
    },
    {
      "cell_type": "code",
      "source": [
        "for w in sample:\n",
        "  if sample[w]:\n",
        "    print(f'{w}\\n---')\n",
        "    for bg in sample[w]:\n",
        "      print(' '.join(bg[0]))\n",
        "  print('\\n\\n')"
      ],
      "metadata": {
        "colab": {
          "base_uri": "https://localhost:8080/"
        },
        "id": "c3RIckqf1Imo",
        "outputId": "2ee6e418-b635-4a6e-a479-d2551431482a"
      },
      "execution_count": 217,
      "outputs": [
        {
          "output_type": "stream",
          "name": "stdout",
          "text": [
            "intelliscore\n",
            "---\n",
            "intelliscore finale\n",
            "called intelliscore\n",
            "bought intelliscore\n",
            "intelliscore which\n",
            "intelliscore when\n",
            "\n",
            "\n",
            "\n",
            "hygiene\n",
            "---\n",
            "dental hygiene\n",
            "hygiene boards\n",
            "hygiene our\n",
            "hygiene game\n",
            "about hygiene\n",
            "\n",
            "\n",
            "\n",
            "laura\n",
            "---\n",
            "laura heinrichs\n",
            "precedetors laura\n",
            "laura hawkins\n",
            "laura unbeknownst\n",
            "laura vincent\n",
            "\n",
            "\n",
            "\n",
            "processor\n",
            "---\n",
            "1055t processor\n",
            "1091t processor\n",
            "15mhz processor\n",
            "1600x processor\n",
            "25hz processor\n",
            "\n",
            "\n",
            "\n",
            "photosuit\n",
            "---\n",
            "recommend photosuit\n",
            "photosuit it\n",
            "\n",
            "\n",
            "\n"
          ]
        }
      ]
    }
  ]
}